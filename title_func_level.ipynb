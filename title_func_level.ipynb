{
  "cells": [
    {
      "cell_type": "markdown",
      "metadata": {
        "id": "view-in-github",
        "colab_type": "text"
      },
      "source": [
        "<a href=\"https://colab.research.google.com/github/dlapushin/buyer_persona_maker/blob/main/title_func_level.ipynb\" target=\"_parent\"><img src=\"https://colab.research.google.com/assets/colab-badge.svg\" alt=\"Open In Colab\"/></a>"
      ]
    },
    {
      "cell_type": "markdown",
      "metadata": {
        "tags": [],
        "id": "RhkfBmtSr_KM"
      },
      "source": [
        "# 1) A Named Entity Recognition model for job title components\n",
        "\n",
        "A Jupyter notebook for downloading an academic dataset of job titles and training a Naive Bayes classifier model that can tag any job title with a Level of Responsibility (e.g. Manager, VP) and its Function (e.g. Finance, Marketing, IT, Sales).\n",
        "\n",
        "The dataset includes 475K job titles which have been parsed into their respective Levels of Responsibility (RES) and Functions (FUN).  Other components such as Location (LOC) and Stopping Words (O) are also included for completeness.\n",
        "\n",
        "There are several data cleansing and enrichment steps included for data integrity purposes, which helps improve classification accuracy.  The original paper:\n",
        "\n",
        "* *\"IPOD: An Industrial and Professional Occupations Dataset and its Applications to Occupational Data Mining and Analysis\"; Junhua Liu, Yung Chuen Ng, Kristin L. Wood, Kwan Hui Lim*"
      ]
    },
    {
      "cell_type": "markdown",
      "metadata": {
        "id": "gPw_vlGiYn9h"
      },
      "source": [
        "## 1. Load all required libraries and input data\n",
        "* Will download and unzip a csv file with all job title and tagging data"
      ]
    },
    {
      "cell_type": "code",
      "execution_count": null,
      "metadata": {
        "colab": {
          "base_uri": "https://localhost:8080/",
          "height": 703
        },
        "id": "hxu84uC0ZQcY",
        "outputId": "3f897e81-f16c-4c2a-ebf8-d10f7af29a92",
        "tags": []
      },
      "outputs": [
        {
          "name": "stdout",
          "output_type": "stream",
          "text": [
            "Archive:  JT_NER_csv.zip\n",
            "  inflating: NER_corpus_Collated_Positions_All_18June2020.csv  \n",
            "  inflating: __MACOSX/._NER_corpus_Collated_Positions_All_18June2020.csv  \n",
            "(475073, 8)\n"
          ]
        },
        {
          "data": {
            "text/html": [
              "<div><div id=b7b22864-f0ef-4926-a233-8311d53b5ce5 style=\"display:none; background-color:#9D6CFF; color:white; width:200px; height:30px; padding-left:5px; border-radius:4px; flex-direction:row; justify-content:space-around; align-items:center;\" onmouseover=\"this.style.backgroundColor='#BA9BF8'\" onmouseout=\"this.style.backgroundColor='#9D6CFF'\" onclick=\"window.commands?.execute('create-mitosheet-from-dataframe-output');\">See Full Dataframe in Mito</div> <script> if (window.commands?.hasCommand('create-mitosheet-from-dataframe-output')) document.getElementById('b7b22864-f0ef-4926-a233-8311d53b5ce5').style.display = 'flex' </script> <table border=\"1\" class=\"dataframe\">\n",
              "  <thead>\n",
              "    <tr style=\"text-align: right;\">\n",
              "      <th></th>\n",
              "      <th>Original_Title</th>\n",
              "      <th>Processed_Title</th>\n",
              "      <th>Tag_A1</th>\n",
              "      <th>BIOES_Tag_A1</th>\n",
              "      <th>Tag_A2</th>\n",
              "      <th>BIOES_Tag_A2</th>\n",
              "      <th>Tag_A3</th>\n",
              "      <th>BIOES_Tag_A3</th>\n",
              "    </tr>\n",
              "  </thead>\n",
              "  <tbody>\n",
              "    <tr>\n",
              "      <th>0</th>\n",
              "      <td>Senior Manager</td>\n",
              "      <td>senior manager</td>\n",
              "      <td>RES RES</td>\n",
              "      <td>B-RES E-RES</td>\n",
              "      <td>RES RES</td>\n",
              "      <td>B-RES E-RES</td>\n",
              "      <td>RES RES</td>\n",
              "      <td>B-RES E-RES</td>\n",
              "    </tr>\n",
              "    <tr>\n",
              "      <th>1</th>\n",
              "      <td>Financial Controller</td>\n",
              "      <td>financial controller</td>\n",
              "      <td>FUN RES</td>\n",
              "      <td>S-FUN S-RES</td>\n",
              "      <td>FUN RES</td>\n",
              "      <td>S-FUN S-RES</td>\n",
              "      <td>FUN RES</td>\n",
              "      <td>S-FUN S-RES</td>\n",
              "    </tr>\n",
              "    <tr>\n",
              "      <th>2</th>\n",
              "      <td>Acting Financial Controller</td>\n",
              "      <td>acting financial controller</td>\n",
              "      <td>RES FUN RES</td>\n",
              "      <td>S-RES S-FUN S-RES</td>\n",
              "      <td>RES FUN RES</td>\n",
              "      <td>S-RES S-FUN S-RES</td>\n",
              "      <td>RES FUN RES</td>\n",
              "      <td>S-RES S-FUN S-RES</td>\n",
              "    </tr>\n",
              "    <tr>\n",
              "      <th>3</th>\n",
              "      <td>Assistant Manager</td>\n",
              "      <td>assistant manager</td>\n",
              "      <td>RES RES</td>\n",
              "      <td>B-RES E-RES</td>\n",
              "      <td>RES RES</td>\n",
              "      <td>B-RES E-RES</td>\n",
              "      <td>RES RES</td>\n",
              "      <td>B-RES E-RES</td>\n",
              "    </tr>\n",
              "    <tr>\n",
              "      <th>4</th>\n",
              "      <td>Audit Senior</td>\n",
              "      <td>audit senior</td>\n",
              "      <td>FUN RES</td>\n",
              "      <td>S-FUN S-RES</td>\n",
              "      <td>FUN RES</td>\n",
              "      <td>S-FUN S-RES</td>\n",
              "      <td>FUN RES</td>\n",
              "      <td>S-FUN S-RES</td>\n",
              "    </tr>\n",
              "  </tbody>\n",
              "</table></div>"
            ],
            "text/plain": [
              "                Original_Title              Processed_Title       Tag_A1  \\\n",
              "0               Senior Manager               senior manager      RES RES   \n",
              "1         Financial Controller         financial controller      FUN RES   \n",
              "2  Acting Financial Controller  acting financial controller  RES FUN RES   \n",
              "3            Assistant Manager            assistant manager      RES RES   \n",
              "4                 Audit Senior                 audit senior      FUN RES   \n",
              "\n",
              "        BIOES_Tag_A1       Tag_A2       BIOES_Tag_A2       Tag_A3  \\\n",
              "0        B-RES E-RES      RES RES        B-RES E-RES      RES RES   \n",
              "1        S-FUN S-RES      FUN RES        S-FUN S-RES      FUN RES   \n",
              "2  S-RES S-FUN S-RES  RES FUN RES  S-RES S-FUN S-RES  RES FUN RES   \n",
              "3        B-RES E-RES      RES RES        B-RES E-RES      RES RES   \n",
              "4        S-FUN S-RES      FUN RES        S-FUN S-RES      FUN RES   \n",
              "\n",
              "        BIOES_Tag_A3  \n",
              "0        B-RES E-RES  \n",
              "1        S-FUN S-RES  \n",
              "2  S-RES S-FUN S-RES  \n",
              "3        B-RES E-RES  \n",
              "4        S-FUN S-RES  "
            ]
          },
          "execution_count": 1,
          "metadata": {},
          "output_type": "execute_result"
        }
      ],
      "source": [
        "!pip -q install nltk\n",
        "\n",
        "import pandas as pd\n",
        "import numpy as np\n",
        "import os\n",
        "import requests\n",
        "from zipfile import ZipFile\n",
        "import subprocess\n",
        "import pickle\n",
        "import gc\n",
        "import sys\n",
        "import ipywidgets as widgets\n",
        "from IPython.display import display,clear_output\n",
        "\n",
        "import nltk\n",
        "nltk.download('stopwords', quiet=True)\n",
        "from nltk.corpus import stopwords\n",
        "from nltk.tokenize import word_tokenize\n",
        "\n",
        "from sklearn.linear_model import Perceptron\n",
        "from sklearn.model_selection import train_test_split\n",
        "from sklearn.naive_bayes import MultinomialNB\n",
        "from sklearn.metrics import classification_report\n",
        "from sklearn.feature_extraction.text import CountVectorizer\n",
        "from sklearn.metrics import accuracy_score\n",
        "\n",
        "import seaborn as sns\n",
        "\n",
        "def github_unzip(raw_url, filename):\n",
        "    r = requests.get(raw_url, allow_redirects=True)\n",
        "    f = open(filename,'wb')\n",
        "    f.write(r.content)\n",
        "    f.close()\n",
        "    subprocess.run([\"unzip\", \"-o\", filename])\n",
        "\n",
        "url = 'https://raw.githubusercontent.com/junhua/IPOD/ad55ddede065612a225628492698d540f3516440/data/JT_NER.csv.zip'\n",
        "github_unzip(url, 'JT_NER_csv.zip')\n",
        "\n",
        "df_corpus = pd.read_csv('NER_corpus_Collated_Positions_All_18June2020.csv')\n",
        "print(df_corpus.shape)\n",
        "df_corpus.head()"
      ]
    },
    {
      "cell_type": "markdown",
      "metadata": {
        "id": "tT5mmZ8Nr_KS"
      },
      "source": [
        "## 2. Data transformations and enrichments\n",
        "* Break out each title and particle of speech (pos) into constituent tokens\n",
        "* Tokens are placed in dedicated fields and a dimension (length) field is also created to check consistency between number of tokens in title and number of pos's\n",
        "\n",
        "    * title_split\n",
        "    * pos_split_a1\n",
        "    * pos_split_a2\n",
        "    * pos_split_a3\n",
        "\n",
        "This will help confirm and remove cases where special characters (e.g. *\\t) have compromised the tagging - number of tokens != number of pos tags"
      ]
    },
    {
      "cell_type": "code",
      "execution_count": null,
      "metadata": {
        "id": "JulXX6llr_KT",
        "outputId": "0a15a0aa-8593-4f2e-b436-7b17064e7d90"
      },
      "outputs": [
        {
          "name": "stdout",
          "output_type": "stream",
          "text": [
            "1211417\n",
            "1211417\n",
            "1211417\n",
            "1211417\n"
          ]
        }
      ],
      "source": [
        "df_corpus['title_split'] = df_corpus.apply(lambda x: x['Processed_Title'].split(), axis=1)\n",
        "df_corpus['title_split_len'] = df_corpus.apply(lambda x: len(x['title_split']), axis=1)\n",
        "\n",
        "df_corpus['pos_split_a1'] = df_corpus.apply(lambda x: x['Tag_A1'].split(), axis=1)\n",
        "df_corpus['pos_split_a1_len'] = df_corpus.apply(lambda x: len(x['pos_split_a1']), axis=1)\n",
        "\n",
        "df_corpus['pos_split_a2'] = df_corpus.apply(lambda x: x['Tag_A2'].split(), axis=1)\n",
        "df_corpus['pos_split_a2_len'] = df_corpus.apply(lambda x: len(x['pos_split_a2']), axis=1)\n",
        "\n",
        "df_corpus['pos_split_a3'] = df_corpus.apply(lambda x: x['Tag_A3'].split(), axis=1)\n",
        "df_corpus['pos_split_a3_len'] = df_corpus.apply(lambda x: len(x['pos_split_a3']), axis=1)\n",
        "\n",
        "# find and remove cases where special characters (e.g. *\\t) have compromised the tagging - number of tokens != number of pos tags\n",
        "\n",
        "df_corpus_final = df_corpus[(df_corpus['title_split_len'] == df_corpus['pos_split_a1_len']) &\n",
        "                           (df_corpus['pos_split_a1'] == df_corpus['pos_split_a2']) &\n",
        "                           (df_corpus['pos_split_a1'] == df_corpus['pos_split_a3'])]\n",
        "\n",
        "# each of the sum values should be equivalent for df_corpus_final at this point\n",
        "print(sum(df_corpus_final['title_split_len']))\n",
        "print(sum(df_corpus_final['pos_split_a1_len']))\n",
        "print(sum(df_corpus_final['pos_split_a2_len']))\n",
        "print(sum(df_corpus_final['pos_split_a3_len']))"
      ]
    },
    {
      "cell_type": "markdown",
      "metadata": {
        "id": "d2SdXsnor_KT"
      },
      "source": [
        "## 3. Flatten each record (multiple pos tags) into individual records (one pos per record)\n",
        "* Simplifies classification model training\n",
        "* Each token becomes an entry in the training data (**X**) and each POS is used as an entry in the target variable (**y**)"
      ]
    },
    {
      "cell_type": "code",
      "execution_count": null,
      "metadata": {
        "colab": {
          "base_uri": "https://localhost:8080/"
        },
        "id": "m3UaS6Br2Cza",
        "outputId": "7c2618ce-3c44-42dd-9fe8-abb46954dda5"
      },
      "outputs": [
        {
          "name": "stdout",
          "output_type": "stream",
          "text": [
            "Flattened data frame has dimensions:  (1211417, 2)\n"
          ]
        }
      ],
      "source": [
        "title_split = df_corpus_final['title_split'].explode('title_split')\n",
        "title_split.reset_index(drop=True, inplace=True)\n",
        "\n",
        "pos_split_a1 = df_corpus_final['pos_split_a1'].explode('pos_split_a1')\n",
        "pos_split_a1.reset_index(drop=True, inplace = True)\n",
        "\n",
        "df_flat = pd.concat([title_split, pos_split_a1], axis=1)\n",
        "df_flat.columns = ['token','pos']  # rename columns\n",
        "df_flat.reset_index(inplace=True, drop=True)\n",
        "print('Flattened data frame has dimensions: ', str(df_flat.shape))"
      ]
    },
    {
      "cell_type": "markdown",
      "metadata": {
        "id": "q1MayW5vMj0C"
      },
      "source": [
        "## 4. Process and Enrich token / pos data\n",
        "\n",
        "* Define functions to:\n",
        "    * Confirm a stopword with the official nltk stopwords corpus\n",
        "    * Create barchart plot of token counts for each POS: RES, FUN, LOC, and O\n",
        "    * Create table with top n most frequent values for each POS\n",
        "* Save backup file in case needed later\n",
        "* Remove certain mis-labelled stop words to improve data integrity\n",
        "* Create basic plot to compare token and pos counts, plus other metrics"
      ]
    },
    {
      "cell_type": "code",
      "execution_count": null,
      "metadata": {
        "id": "acUnAjFT-sdC",
        "tags": [],
        "outputId": "b3b28512-9d99-4b8e-ce68-bf3d0097d7bc"
      },
      "outputs": [
        {
          "data": {
            "text/plain": [
              "array(['O'], dtype=object)"
            ]
          },
          "execution_count": 4,
          "metadata": {},
          "output_type": "execute_result"
        }
      ],
      "source": [
        "def create_pos_barchart(df):\n",
        "    sns.set_theme()\n",
        "    sns.set(rc={'figure.figsize':(8,5)})\n",
        "\n",
        "    pos_counts = df.groupby('pos').count()\n",
        "    pos_counts.reset_index(inplace=True)\n",
        "    pos_counts.columns = ['pos','counts','stopwords']\n",
        "    pos_counts.sort_values('counts', inplace=True, ascending=False)\n",
        "\n",
        "    fig = sns.barplot(data=pos_counts, x='pos', y='counts')\n",
        "    fig.set_xlabel('POS')\n",
        "    fig.set_ylabel('Count')\n",
        "    fig.set_title('POS Representation in IPOD Data Set (Enriched)',fontdict= {'fontsize': 18} )\n",
        "    fig\n",
        "\n",
        "def top_n_pos_token(df, top_n):\n",
        "\n",
        "    token_counts_by_pos = pd.DataFrame(df.groupby(['pos','token']).size())\n",
        "    token_counts_by_pos.reset_index(inplace=True)\n",
        "    token_counts_by_pos.columns = ['pos','token','counts']\n",
        "\n",
        "    df_top_n = pd.DataFrame()\n",
        "    for pos in ['RES','FUN','O','LOC']:\n",
        "        new_col = pd.DataFrame(token_counts_by_pos[token_counts_by_pos['pos'] == pos].sort_values('counts', ascending=False)[0:top_n][['token','counts']])\n",
        "        new_col.reset_index(inplace=True, drop=True)\n",
        "        df_top_n = pd.concat([df_top_n,new_col]\n",
        "                             ,axis=1\n",
        "                             ,ignore_index=True\n",
        "                            )\n",
        "    df_top_n.columns = ['RES', 'count', 'FUN', 'count', 'O', 'count', 'LOC', 'count']\n",
        "    return df_top_n\n",
        "\n",
        "def remove_mislabeled_stopwords(df, stop_words):\n",
        "    df['stop_word'] = df['token'].apply(lambda x: '1' if x in stop_words else '0')\n",
        "    indexStopword = df[(df['stop_word'] == '1') & (df['pos'] != 'O')].index\n",
        "    df.drop(indexStopword, inplace=True)\n",
        "\n",
        "    return df\n",
        "\n",
        "def pos_split_override(df, token, pos):\n",
        "    indexOverwrite = df[df['token'] == token].index\n",
        "    df.loc[indexOverwrite,['pos']] = pos\n",
        "    df_enriched = df\n",
        "    return df_enriched\n",
        "\n",
        "df_flat = pos_split_override(df_flat, 'it', 'FUN')\n",
        "df_flat = pos_split_override(df_flat, 'ciso', 'RES')\n",
        "df_flat = pos_split_override(df_flat, 'cmo', 'RES')\n",
        "df_flat = pos_split_override(df_flat, 'sfdc', 'FUN')\n",
        "df_flat = pos_split_override(df_flat, 'salesforce', 'FUN')\n",
        "df_flat = pos_split_override(df_flat, 'sap', 'FUN')\n",
        "df_flat = pos_split_override(df_flat, 'oracle', 'FUN')\n",
        "\n",
        "for k in range(0,40): # creates additional needed training data\n",
        "\n",
        "    df_flat = pd.concat([df_flat, pd.DataFrame({'token':'&','pos':'O'},index=[0])], ignore_index=True)\n",
        "    df_flat = pd.concat([df_flat, pd.DataFrame({'token':'-','pos':'O'},index=[0])], ignore_index=True)\n",
        "    df_flat = pd.concat([df_flat, pd.DataFrame({'token':'ciso','pos':'RES'},index=[0])], ignore_index=True)\n",
        "    df_flat = pd.concat([df_flat, pd.DataFrame({'token':'sales','pos':'FUN'},index=[0])], ignore_index=True)\n",
        "\n",
        "stop_words = set(stopwords.words('english'))  # create a searchable set of English stop words, but remove 'it' since that represents IT (info tech)\n",
        "stop_words.remove('it')\n",
        "\n",
        "df_flat.to_csv('position_title.csv')  # persist data to .csv file\n",
        "\n",
        "df_flat_final = remove_mislabeled_stopwords(df_flat, stop_words)\n",
        "\n",
        "## Unit test - should only result in 'O' value\n",
        "df_flat_final[df_flat_final['stop_word'] == '1']['pos'].unique()"
      ]
    },
    {
      "cell_type": "markdown",
      "metadata": {
        "id": "JOUSS0LNr_KW"
      },
      "source": [
        "### Barchart and Table\n",
        "* RES and FUN tokens far outnumber stopwords (O) and locations (LOC)"
      ]
    },
    {
      "cell_type": "code",
      "execution_count": null,
      "metadata": {
        "colab": {
          "base_uri": "https://localhost:8080/",
          "height": 555
        },
        "id": "qbmRKm2DYvur",
        "outputId": "b1a12f71-8e34-4a69-a229-246a800dbcfd"
      },
      "outputs": [
        {
          "data": {
            "text/html": [
              "<div><div id=d01164b7-19f2-481d-a411-e3a4462f033e style=\"display:none; background-color:#9D6CFF; color:white; width:200px; height:30px; padding-left:5px; border-radius:4px; flex-direction:row; justify-content:space-around; align-items:center;\" onmouseover=\"this.style.backgroundColor='#BA9BF8'\" onmouseout=\"this.style.backgroundColor='#9D6CFF'\" onclick=\"window.commands?.execute('create-mitosheet-from-dataframe-output');\">See Full Dataframe in Mito</div> <script> if (window.commands?.hasCommand('create-mitosheet-from-dataframe-output')) document.getElementById('d01164b7-19f2-481d-a411-e3a4462f033e').style.display = 'flex' </script> <table border=\"1\" class=\"dataframe\">\n",
              "  <thead>\n",
              "    <tr style=\"text-align: right;\">\n",
              "      <th></th>\n",
              "      <th>RES</th>\n",
              "      <th>count</th>\n",
              "      <th>FUN</th>\n",
              "      <th>count</th>\n",
              "      <th>O</th>\n",
              "      <th>count</th>\n",
              "      <th>LOC</th>\n",
              "      <th>count</th>\n",
              "    </tr>\n",
              "  </thead>\n",
              "  <tbody>\n",
              "    <tr>\n",
              "      <th>0</th>\n",
              "      <td>manager</td>\n",
              "      <td>80348</td>\n",
              "      <td>business</td>\n",
              "      <td>17932</td>\n",
              "      <td>and</td>\n",
              "      <td>38327</td>\n",
              "      <td>asia</td>\n",
              "      <td>2239</td>\n",
              "    </tr>\n",
              "    <tr>\n",
              "      <th>1</th>\n",
              "      <td>senior</td>\n",
              "      <td>40895</td>\n",
              "      <td>project</td>\n",
              "      <td>16067</td>\n",
              "      <td>of</td>\n",
              "      <td>14916</td>\n",
              "      <td>apac</td>\n",
              "      <td>1687</td>\n",
              "    </tr>\n",
              "    <tr>\n",
              "      <th>2</th>\n",
              "      <td>engineer</td>\n",
              "      <td>34881</td>\n",
              "      <td>marketing</td>\n",
              "      <td>14849</td>\n",
              "      <td>for</td>\n",
              "      <td>1672</td>\n",
              "      <td>singapore</td>\n",
              "      <td>1462</td>\n",
              "    </tr>\n",
              "    <tr>\n",
              "      <th>3</th>\n",
              "      <td>director</td>\n",
              "      <td>31206</td>\n",
              "      <td>development</td>\n",
              "      <td>13351</td>\n",
              "      <td>to</td>\n",
              "      <td>1476</td>\n",
              "      <td>china</td>\n",
              "      <td>875</td>\n",
              "    </tr>\n",
              "    <tr>\n",
              "      <th>4</th>\n",
              "      <td>assistant</td>\n",
              "      <td>24631</td>\n",
              "      <td>operations</td>\n",
              "      <td>9988</td>\n",
              "      <td>the</td>\n",
              "      <td>1428</td>\n",
              "      <td>country</td>\n",
              "      <td>771</td>\n",
              "    </tr>\n",
              "    <tr>\n",
              "      <th>5</th>\n",
              "      <td>executive</td>\n",
              "      <td>21960</td>\n",
              "      <td>software</td>\n",
              "      <td>9390</td>\n",
              "      <td>summer</td>\n",
              "      <td>1411</td>\n",
              "      <td>east</td>\n",
              "      <td>681</td>\n",
              "    </tr>\n",
              "    <tr>\n",
              "      <th>6</th>\n",
              "      <td>analyst</td>\n",
              "      <td>18353</td>\n",
              "      <td>finance</td>\n",
              "      <td>8791</td>\n",
              "      <td>in</td>\n",
              "      <td>1167</td>\n",
              "      <td>south</td>\n",
              "      <td>675</td>\n",
              "    </tr>\n",
              "    <tr>\n",
              "      <th>7</th>\n",
              "      <td>consultant</td>\n",
              "      <td>16578</td>\n",
              "      <td>financial</td>\n",
              "      <td>7207</td>\n",
              "      <td>at</td>\n",
              "      <td>1166</td>\n",
              "      <td>sea</td>\n",
              "      <td>489</td>\n",
              "    </tr>\n",
              "    <tr>\n",
              "      <th>8</th>\n",
              "      <td>intern</td>\n",
              "      <td>15086</td>\n",
              "      <td>it</td>\n",
              "      <td>6898</td>\n",
              "      <td>i</td>\n",
              "      <td>864</td>\n",
              "      <td>north</td>\n",
              "      <td>433</td>\n",
              "    </tr>\n",
              "    <tr>\n",
              "      <th>9</th>\n",
              "      <td>associate</td>\n",
              "      <td>12167</td>\n",
              "      <td>technical</td>\n",
              "      <td>6868</td>\n",
              "      <td>rd</td>\n",
              "      <td>864</td>\n",
              "      <td>asean</td>\n",
              "      <td>424</td>\n",
              "    </tr>\n",
              "  </tbody>\n",
              "</table></div>"
            ],
            "text/plain": [
              "          RES  count          FUN  count       O  count        LOC  count\n",
              "0     manager  80348     business  17932     and  38327       asia   2239\n",
              "1      senior  40895      project  16067      of  14916       apac   1687\n",
              "2    engineer  34881    marketing  14849     for   1672  singapore   1462\n",
              "3    director  31206  development  13351      to   1476      china    875\n",
              "4   assistant  24631   operations   9988     the   1428    country    771\n",
              "5   executive  21960     software   9390  summer   1411       east    681\n",
              "6     analyst  18353      finance   8791      in   1167      south    675\n",
              "7  consultant  16578    financial   7207      at   1166        sea    489\n",
              "8      intern  15086           it   6898       i    864      north    433\n",
              "9   associate  12167    technical   6868      rd    864      asean    424"
            ]
          },
          "execution_count": 5,
          "metadata": {},
          "output_type": "execute_result"
        },
        {
          "data": {
            "image/png": "[encoded data removed]",
            "text/plain": [
              "<Figure size 800x500 with 1 Axes>"
            ]
          },
          "metadata": {},
          "output_type": "display_data"
        }
      ],
      "source": [
        "create_pos_barchart(df_flat_final)\n",
        "top_n_pos_token(df_flat_final, 10)"
      ]
    },
    {
      "cell_type": "markdown",
      "metadata": {
        "id": "Y7IJH4vfzh5F"
      },
      "source": [
        "## 5. Train Machine Learning classifier model\n",
        "* Create a 66% / 33% split for training and testing, using the **df_flat_final** dataset\n",
        "* Train MultinomalNB classifier with X_train, y_train - **takes less than 1 min**\n",
        "* Display accuracy score when done"
      ]
    },
    {
      "cell_type": "code",
      "execution_count": null,
      "metadata": {
        "id": "2ITxYodYr_KW",
        "outputId": "7e93d47c-0813-4e05-a934-94b41469b430"
      },
      "outputs": [
        {
          "name": "stdout",
          "output_type": "stream",
          "text": [
            "Training Data Shape: (908682, 3)\n",
            "Testing Data Shape: (302895, 3)\n",
            "Accuracy score: 98.1%\n"
          ]
        }
      ],
      "source": [
        "# Predicting the classification of a new token\n",
        "def predict_category(token):\n",
        "    token_features = vectorizer.transform([token])\n",
        "    prediction = classifier.predict(token_features)\n",
        "    return prediction[0]\n",
        "\n",
        "train, test = train_test_split(df_flat_final, test_size=0.25, random_state=42)\n",
        "print('Training Data Shape:', train.shape)\n",
        "print('Testing Data Shape:', test.shape)\n",
        "\n",
        "# Format training data\n",
        "training_data = df_flat_final[['token','pos']].values.tolist()\n",
        "\n",
        "# Preparing the training features and labels\n",
        "X_train = [data[0] for data in training_data]\n",
        "y_train = [data[1] for data in training_data]\n",
        "\n",
        "# Creating a CountVectorizer to convert text into numerical features\n",
        "vectorizer = CountVectorizer()\n",
        "X_train = vectorizer.fit_transform(X_train)\n",
        "\n",
        "# Train-test split\n",
        "X_train, X_test, y_train, y_test = train_test_split(X_train, y_train, test_size=0.33, random_state=42)\n",
        "\n",
        "# Training the classifier\n",
        "classifier = MultinomialNB()\n",
        "classifier.fit(X_train, y_train)\n",
        "y_pred = classifier.predict(X_test)\n",
        "\n",
        "print('Accuracy score: {0:.1%}'. format(accuracy_score(y_test, y_pred)))"
      ]
    },
    {
      "cell_type": "code",
      "execution_count": null,
      "metadata": {
        "id": "VfYQ5iLsr_KX",
        "outputId": "491baa63-1917-49a9-c103-59db9b185e29",
        "colab": {
          "referenced_widgets": [
            "f77bc61d50af4d71952418f2eadf9ae2"
          ]
        }
      },
      "outputs": [
        {
          "data": {
            "application/vnd.jupyter.widget-view+json": {
              "model_id": "f77bc61d50af4d71952418f2eadf9ae2",
              "version_major": 2,
              "version_minor": 0
            },
            "text/plain": [
              "VBox(children=(HBox(children=(Text(value='type job title', description='Enter title:', placeholder='type job t…"
            ]
          },
          "metadata": {},
          "output_type": "display_data"
        }
      ],
      "source": [
        "from IPython.display import display\n",
        "\n",
        "def jt_tokenized(job_title_text):\n",
        "\n",
        "    df_job_title_breakdown = pd.DataFrame()\n",
        "\n",
        "    for token in job_title_text.split(' '):\n",
        "        predicted_category = predict_category(token.lower())\n",
        "        df_job_title_breakdown = pd.concat([df_job_title_breakdown,\n",
        "                                            pd.DataFrame({'token': token, 'pos': predicted_category}, index=[0])],\n",
        "                                           axis=0, ignore_index=True)\n",
        "\n",
        "    return df_job_title_breakdown\n",
        "\n",
        "button = widgets.Button(description=\"Click Me!\")\n",
        "output = widgets.Output()\n",
        "\n",
        "job_title = widgets.Text(\n",
        "    value='type job title',\n",
        "    placeholder='type job title',\n",
        "    description='Enter title:',\n",
        "    disabled=False\n",
        ")\n",
        "\n",
        "def on_button_clicked(b):\n",
        "    with output:\n",
        "        clear_output()\n",
        "        #print(\"Button clicked.\")\n",
        "        html = widgets.HTML(#value=\"Hello <b>World</b>\",\n",
        "                            value = jt_tokenized(job_title.value).to_html(),\n",
        "                            placeholder=str(job_title.value),\n",
        "                            #description=jt_tokenized(job_title.value).to_html()\n",
        "                            )\n",
        "        display(html)\n",
        "\n",
        "button.on_click(on_button_clicked)\n",
        "\n",
        "top = widgets.HBox([job_title, button])\n",
        "widgets.VBox([top, output])"
      ]
    },
    {
      "cell_type": "markdown",
      "metadata": {
        "id": "Y5hW_Tcjr_KX"
      },
      "source": [
        "### Serialize classifier model into pickle format"
      ]
    },
    {
      "cell_type": "code",
      "execution_count": null,
      "metadata": {
        "id": "g-fuxBFgr_KX"
      },
      "outputs": [],
      "source": [
        "file = open('title_classifier','wb')\n",
        "pickle.dump(classifier,file)\n",
        "file.close()"
      ]
    },
    {
      "cell_type": "markdown",
      "source": [
        "# 2) Buyer Persona Analytics (on CRM data)\n",
        "* Introduces a **buyer_persona** class for uploading contact records (job title field at a minimum) from a CRM platform such as Salesforce.  \n",
        "* Class includes **methods** for:\n",
        "  * mapping of each job_title to its applicable Level of Responsibility (RES) and Function (FUN).\n",
        "  * creating analytic views (heatmaps, parallel categories) on applicable buyer personas\n",
        "\n",
        "**NOTE:** The code below can be run separately from prior sections since it only relies upon the pickle files created above."
      ],
      "metadata": {
        "id": "AQg3oF9VsHUj"
      }
    },
    {
      "cell_type": "markdown",
      "source": [
        "## Load all required libraries and POS model from prior steps"
      ],
      "metadata": {
        "id": "Hdcry1zyt9ER"
      }
    },
    {
      "cell_type": "code",
      "source": [
        "import os\n",
        "import translate\n",
        "import pickle5 as pickle\n",
        "import string\n",
        "from sklearn.feature_extraction.text import CountVectorizer\n",
        "import numpy as np\n",
        "import pandas as pd\n",
        "import plotly.express as px\n",
        "from collections import Counter, OrderedDict\n",
        "from tqdm import tqdm\n",
        "tqdm.pandas()\n",
        "\n",
        "with open('title_classifier_serial', 'rb') as f:\n",
        "    classifier = pickle.load(f)\n",
        "\n",
        "with open('vectorizer_serial', 'rb') as f:\n",
        "    vectorizer = pickle.load(f)"
      ],
      "metadata": {
        "id": "6GXxY7vZsZLB"
      },
      "execution_count": null,
      "outputs": []
    },
    {
      "cell_type": "markdown",
      "source": [
        "## Class definition for Buyer_Persona"
      ],
      "metadata": {
        "id": "djwSC7YCuG2c"
      }
    },
    {
      "cell_type": "code",
      "source": [
        "class Buyer_Persona:\n",
        "\n",
        "    def __init__(self):\n",
        "        self.df = None\n",
        "\n",
        "    def data_ingest(self, file_path, job_title_field):\n",
        "        # Read the data from the given file_path into a pandas DataFrame\n",
        "        # Assumes the file is either .csv or .xlsx\n",
        "        if file_path.endswith(\".csv\"):\n",
        "            print('Reading data file: ' + file_path)\n",
        "            self.df = pd.read_csv(file_path, low_memory=False)\n",
        "            self.df.drop(['Unnamed: 0'], axis=1, inplace=True)\n",
        "        elif file_path.endswith(\".xlsx\"):\n",
        "            self.df = pd.read_excel(file_path, low_memory=False)\n",
        "            self.df.drop(['Unnamed: 0'], axis=1, inplace=True)\n",
        "        else:\n",
        "            raise ValueError(\"Unsupported file format. Please provide a .csv or .xlsx file.\")\n",
        "\n",
        "        # Validate if the job_title_field exists in the DataFrame\n",
        "        if job_title_field not in self.df.columns:\n",
        "            raise ValueError(f\"Job title field '{job_title_field}' not found in the DataFrame.\")\n",
        "\n",
        "    def title_adjuster(self, job_title):\n",
        "        translating = str.maketrans('', '', string.punctuation)\n",
        "        title_adj = str.lower(str(job_title))\n",
        "        title_adj = title_adj.translate(str.maketrans('', '', string.punctuation))\n",
        "\n",
        "        return title_adj\n",
        "\n",
        "    def title_clean(self, job_title_field):\n",
        "        if self.df is None:\n",
        "            raise ValueError(\"DataFrame is empty. Please use data_ingest to load data first.\")\n",
        "        print('Cleaning data in field: ' + job_title_field)\n",
        "\n",
        "        clean_title_field = job_title_field + '_clean' ## creates new field based on the title field and adds \"_clean\"\n",
        "        self.df[clean_title_field] = self.df[job_title_field].progress_apply(lambda x: self.title_adjuster(x))\n",
        "        self.clean_title = clean_title_field\n",
        "\n",
        "    def predict_category(self, token):\n",
        "        token_features = vectorizer.transform([token])\n",
        "        prediction = classifier.predict(token_features)\n",
        "\n",
        "        return prediction[0]\n",
        "\n",
        "    ## Create a master dictionary of all the tokens found in titles\n",
        "    ## Predict the POS (RES or FUN) for each token\n",
        "    ## Persist the resulting token:pos dictionary\n",
        "    def master_token_to_odict(self):\n",
        "        self.series_title = self.df[self.clean_title].tolist()\n",
        "\n",
        "        print('Flattening tokens into list format:')\n",
        "        self.master_token = []\n",
        "        for t in tqdm(self.series_title):\n",
        "            token_split_list = t.split(' ')\n",
        "\n",
        "            for t_elem in token_split_list:\n",
        "                self.master_token.append(t_elem.strip())\n",
        "\n",
        "        self.odict_sorted = OrderedDict(Counter(self.master_token).most_common())\n",
        "\n",
        "        print('Creating dictionary of token to POS:')\n",
        "        self.odict_pos = {}\n",
        "        for key in tqdm(self.odict_sorted):\n",
        "            self.odict_pos[key] = {'count': self.odict_sorted[key],\n",
        "                            'pos': self.predict_category(key)\n",
        "                           }\n",
        "\n",
        "    def jt_tokenized_dict(job_title_text):\n",
        "\n",
        "        df_job_title_breakdown = pd.DataFrame()\n",
        "        dict_pos = {'RES': [],\n",
        "                    'FUN': []\n",
        "                   }\n",
        "\n",
        "        for token in job_title_text.split(' '):\n",
        "            predicted_pos = predict_category(token.lower().str.strip())\n",
        "\n",
        "            if(predicted_pos == 'RES'):\n",
        "                dict_pos['RES'].append(token)\n",
        "            if(predicted_pos == 'FUN'):\n",
        "                dict_pos['FUN'].append(token)\n",
        "\n",
        "        dict_pos['RES'] = ' '.join(sorted(dict_pos['RES']))\n",
        "        dict_pos['FUN'] = ' '.join(sorted(dict_pos['FUN']))\n",
        "\n",
        "        return dict_pos\n",
        "\n",
        "    def tokenized_dict_to_col(df):\n",
        "\n",
        "        dict_res_fun = jt_tokenized_dict(df['Title_adj'])\n",
        "        df['RES'] = dict_res_fun['RES']\n",
        "        df['FUN'] = dict_res_fun['FUN']\n",
        "        return df\n",
        "\n",
        "    def jt_tokenized_lists_v2(self, input_title_clean):\n",
        "        RES = []\n",
        "        FUN = []\n",
        "\n",
        "        for token in input_title_clean.split(' '):\n",
        "\n",
        "            try:\n",
        "                predicted_pos = self.odict_pos[token]['pos']\n",
        "            except:\n",
        "                predicted_pos = None\n",
        "\n",
        "            if(predicted_pos == 'RES'):\n",
        "                RES.append(token)\n",
        "            if(predicted_pos == 'FUN'):\n",
        "                FUN.append(token)\n",
        "\n",
        "        return [RES, FUN]\n",
        "\n",
        "    def pos_mapper(self):\n",
        "        # Apply the lambda function to the DataFrame\n",
        "        print('Parsing field ' + self.clean_title + ' into RES and FUN components.  May take a few moments.')\n",
        "        self.df = pd.concat([self.df, self.df.progress_apply(lambda x: self.jt_tokenized_lists_v2(x[self.clean_title]), axis=1, result_type = 'expand')], axis=1)\n",
        "        self.df.rename(columns={0:'RES', 1:'FUN'}, inplace=True)\n",
        "        self.df['RES_flat'] = self.df['RES'].progress_apply(lambda x: ' '.join(x))\n",
        "        self.df['FUN_flat'] = self.df['FUN'].progress_apply(lambda x: ' '.join(x))\n",
        "\n",
        "    def sorted_pos_token(self, pos):\n",
        "        token_counts = pd.DataFrame(self.df.groupby(pos).size().sort_values(ascending=False))\n",
        "        token_counts.reset_index(inplace=True)\n",
        "        token_counts.columns = [pos, 'count']\n",
        "\n",
        "        return token_counts\n",
        "\n",
        "    def pos_sorter(self):\n",
        "        print('Sorting RES and FUN values')\n",
        "        self.list_res = list(self.sorted_pos_token('RES_flat')['RES_flat'])\n",
        "        self.list_res.remove('')\n",
        "\n",
        "        self.list_fun = list(self.sorted_pos_token('FUN_flat')['FUN_flat'])\n",
        "        self.list_fun.remove('')\n",
        "\n",
        "    def top_pos_sorter(self, n):\n",
        "        print('Finding top RES and FUN values')\n",
        "\n",
        "        self.top_res = self.list_res[0:n]\n",
        "        self.top_fun = self.list_fun[0:n]\n",
        "\n",
        "    def top_pos_match(self):\n",
        "\n",
        "        filter_res = (self.df['RES_flat'].isin(self.top_res))\n",
        "        filter_fun = (self.df['FUN_flat'].isin(self.top_fun))\n",
        "\n",
        "        self.df_top_pos_matches = self.df[filter_res & filter_fun]\n",
        "        self.df_top_pos_matches.reset_index(inplace=True, drop=True)\n",
        "\n",
        "    def top_pos_match_pchart(self):\n",
        "\n",
        "        self.df_list = self.df_top_pos_matches[['RES_flat','FUN_flat']]\n",
        "        self.df_list.reset_index(inplace=True, drop=True)\n",
        "        data = self.df_list.values.tolist()\n",
        "\n",
        "        df = pd.DataFrame(data, columns = ['RES', 'FUN'])\n",
        "        fig = px.parallel_categories(df)\n",
        "        fig.update_layout(width = 1000,\n",
        "                          height = 800,\n",
        "                          title = 'Parallel categories for Top Responsibility Levels (RES) and Functions (FUN)')\n",
        "        fig.show()\n",
        "\n",
        "    def top_pos_match_heatmap(self):\n",
        "\n",
        "        df_focus = self.df_top_pos_matches.groupby(['RES_flat','FUN_flat']).count().reset_index()[['RES_flat','FUN_flat','Title']]\n",
        "        df_focus = df_focus.pivot(index='RES_flat', columns='FUN_flat')['Title'].fillna(0)\n",
        "\n",
        "        fig = px.imshow(df_focus, x=new_df.columns, y=new_df.index, color_continuous_scale=px.colors.sequential.GnBu)\n",
        "        fig.update_layout(width = 1000,\n",
        "                          height = 1000,\n",
        "                         title = 'Heatmap for top Responsibility Levels (RES) and Functions (FUN)')\n",
        "        fig.update_xaxes(title_text='Top Functions (FUN)')\n",
        "        fig.update_yaxes(title_text='Top Responsibility Levels (RES)')\n",
        "        fig.show()\n"
      ],
      "metadata": {
        "id": "gPUv01rwuOfJ"
      },
      "execution_count": null,
      "outputs": []
    },
    {
      "cell_type": "markdown",
      "source": [
        "## Example usage pattern:\n",
        "* Load contact records with a job title field included.  The job title field needs to be specified with the *data_ingest* method"
      ],
      "metadata": {
        "id": "67Y7U2NFuTob"
      }
    },
    {
      "cell_type": "code",
      "source": [
        "# Example usage:\n",
        "buyer_persona = Buyer_Persona()  ## Instantiate the Buyer_Persona class\n",
        "buyer_persona.data_ingest('my_crm_contacts.csv', 'Title')  ## Ingests contacts file; specify field containing job title (e.g. Title)\n",
        "buyer_persona.title_clean('Title')  ## Strips punctutation and other extraneous text form job titles\n",
        "buyer_persona.master_token_to_odict()  ## Creates master dictionary of tokens to part of speech (POS)\n",
        "\n",
        "buyer_persona.pos_mapper()\n",
        "buyer_persona.pos_sorter()\n",
        "buyer_persona.top_pos_sorter(20)\n",
        "buyer_persona.top_pos_match()\n",
        "\n",
        "display(buyer_persona.top_pos_match_heatmap())\n",
        "display(buyer_persona.top_pos_match_pchart())"
      ],
      "metadata": {
        "id": "DXNn9YJ4uSoo"
      },
      "execution_count": null,
      "outputs": []
    }
  ],
  "metadata": {
    "accelerator": "TPU",
    "colab": {
      "machine_shape": "hm",
      "provenance": [],
      "toc_visible": true,
      "include_colab_link": true
    },
    "kernelspec": {
      "display_name": "Python 3 (ipykernel)",
      "language": "python",
      "name": "python3"
    },
    "language_info": {
      "codemirror_mode": {
        "name": "ipython",
        "version": 3
      },
      "file_extension": ".py",
      "mimetype": "text/x-python",
      "name": "python",
      "nbconvert_exporter": "python",
      "pygments_lexer": "ipython3",
      "version": "3.9.13"
    }
  },
  "nbformat": 4,
  "nbformat_minor": 0
}